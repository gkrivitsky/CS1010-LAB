{
  "cells": [
    {
      "cell_type": "markdown",
      "metadata": {
        "id": "view-in-github",
        "colab_type": "text"
      },
      "source": [
        "<a href=\"https://colab.research.google.com/github/gkrivitsky/CS1010-LAB/blob/main/Copy_of_Lab14.ipynb\" target=\"_parent\"><img src=\"https://colab.research.google.com/assets/colab-badge.svg\" alt=\"Open In Colab\"/></a>"
      ]
    },
    {
      "cell_type": "markdown",
      "metadata": {
        "id": "RYO4sN84A3br"
      },
      "source": [
        "## <a href=\"https://colab.research.google.com/github/LMU-CMSI-1010/lab-notebooks-original/blob/main/Lab14.ipynb\" target=\"_parent\"><img src=\"https://colab.research.google.com/assets/colab-badge.svg\" alt=\"Open In Colab\"/></a>"
      ]
    },
    {
      "cell_type": "markdown",
      "metadata": {
        "id": "9aXfrLXg9seM"
      },
      "source": [
        "# Lab 14 Rock Paper Scissors Game\n",
        "In this lab, you will develop your own version of the classic game Rock Paper Scissors using classes and inheritance.\n",
        "\n",
        "First, let's recall the game. Each player can choose to play rock, paper, or scissors strategy. In the following cell, we will create a parent class for all the strategies and child classes for each strategy in the game.\n",
        "\n",
        "**The rules are the following:**\n",
        "* Paper beats rock\n",
        "* Rock beats scissors\n",
        "* Scissors beats paper"
      ]
    },
    {
      "cell_type": "code",
      "execution_count": null,
      "metadata": {
        "id": "_xxdXaiWFWqy"
      },
      "outputs": [],
      "source": [
        "# This is the parent class for all possible strategies\n",
        "class Strategy():\n",
        "    # The constructor initializes the strategy description\n",
        "    def __init__(self, desc):\n",
        "        self.__description = desc\n",
        "\n",
        "    # This method is used to describe what a strategy does\n",
        "    def use(self):\n",
        "        return 'uses a generic strategy'\n",
        "\n",
        "    # This method the name of the strategy class\n",
        "    def get_id(self):\n",
        "        return self.__class__.__name__\n",
        "\n",
        "    # This method is used to print a strategy and does not need to be\n",
        "    # changed\n",
        "    def __str__(self):\n",
        "        return self.__description\n",
        "\n",
        "    # This method is use to describe what will happen when two\n",
        "    # strategies are played against each other. This returns one\n",
        "    # of three values:\n",
        "    #\n",
        "    # * Return -1 if other beats self\n",
        "    # * Return 1 if self beats other\n",
        "    # * Return 0 if it's a tie\n",
        "    #\n",
        "    def fight(self, other):\n",
        "        return 0\n",
        "\n",
        "\n",
        "# We have completed the RockStrategy class for you. Its parent is the\n",
        "# Strategy class. It overrides use() and fight() and uses its parent\n",
        "# constructor, get_id(), and __str__()\n",
        "class RockStrategy(Strategy):\n",
        "    def __init__(self):\n",
        "        super().__init__('Playing the rock')\n",
        "\n",
        "    def use(self):\n",
        "        return 'Rock!!'\n",
        "\n",
        "    def fight(self, other):\n",
        "        if other.get_id() == 'RockStrategy':\n",
        "            print('Tie')\n",
        "            return 0\n",
        "        elif other.get_id() == 'PaperStrategy':\n",
        "            print('Paper wins over rock')\n",
        "            return -1\n",
        "        elif other.get_id() == 'ScissorsStrategy':\n",
        "            print('Rock wins over scissors')\n",
        "            return 1\n",
        "\n",
        "\n",
        "# TODO: Now you will complete the Paper and Scissors Strategy classes below.\n",
        "class PaperStrategy(Strategy):\n",
        "    pass\n",
        "\n",
        "\n",
        "class ScissorsStrategy(Strategy):\n",
        "    pass"
      ]
    },
    {
      "cell_type": "code",
      "execution_count": null,
      "metadata": {
        "id": "L-Md1FOnpfA6"
      },
      "outputs": [],
      "source": [
        "class PaperStrategy(Strategy):\n",
        "    def __init__(self):\n",
        "        super().__init__('Playing the paper')\n",
        "\n",
        "    def use(self):\n",
        "        return 'Paper!!'\n",
        "\n",
        "    def fight(self, other):\n",
        "        if other.get_id() == 'RockStrategy':\n",
        "            print('Paper wins over rock')\n",
        "            return 1\n",
        "        elif other.get_id() == 'PaperStrategy':\n",
        "            print('Tie')\n",
        "            return 0\n",
        "        elif other.get_id() == 'ScissorsStrategy':\n",
        "            print('Scissors wins over paper')\n",
        "            return -1\n",
        "\n",
        "\n",
        "class ScissorsStrategy(Strategy):\n",
        "    def __init__(self):\n",
        "        super().__init__('Playing the scissors')\n",
        "\n",
        "    def use(self):\n",
        "        return 'Scissors!!'\n",
        "\n",
        "    def fight(self, other):\n",
        "        if other.get_id() == 'RockStrategy':\n",
        "            print('Rock wins over scissors')\n",
        "            return -1\n",
        "        elif other.get_id() == 'PaperStrategy':\n",
        "            print('Scissors wins over paper')\n",
        "            return 1\n",
        "        elif other.get_id() == 'ScissorsStrategy':\n",
        "            print('Tie')\n",
        "            return 0\n"
      ]
    },
    {
      "cell_type": "markdown",
      "metadata": {
        "id": "p-jOgnxeKJ0R"
      },
      "source": [
        "## The Players\n",
        "In the following cell, we create our players. There is a parent Player class, a Computer Player class, and a Human Player class. We have provided the base Player and the Computer Player classes. **You will need to implement the Human Player class to prompt users for a strategy and return it.**"
      ]
    },
    {
      "cell_type": "code",
      "execution_count": null,
      "metadata": {
        "id": "kMO_WzbmKOIM"
      },
      "outputs": [],
      "source": [
        "import random\n",
        "\n",
        "# This is the parent class for all players.\n",
        "class Player():\n",
        "    # The constructor initializes the strategy description\n",
        "    def __init__(self, name):\n",
        "        self.name = name  # Fixed typo here\n",
        "        self.strategies = {\n",
        "            'rock': RockStrategy(),\n",
        "            'paper': PaperStrategy(),\n",
        "            'scissors': ScissorsStrategy()\n",
        "        }\n",
        "        self.score = 0\n",
        "\n",
        "    def __str__(self):\n",
        "        return 'Player: ' + self.name\n",
        "\n",
        "    # This method should return a strategy for the player, but does nothing yet;\n",
        "    # the derived classes will override it.\n",
        "    def play_strategy(self):\n",
        "        return None\n",
        "\n",
        "    def update_score(self, own, other):\n",
        "        print(f'{self.name} says: \"{own.use()}\"')\n",
        "        self.score += own.fight(other)\n",
        "\n",
        "    def get_score(self):\n",
        "        return self.score\n",
        "\n",
        "\n",
        "# We have completed the Computer Player for you.\n",
        "# The Computer Player plays a random strategy of rock, paper, or scissors.\n",
        "class ComputerPlayer(Player):\n",
        "    def __init__(self, name='Computer Player'):\n",
        "        super().__init__(name)\n",
        "\n",
        "    def play_strategy(self):\n",
        "        strategy = random.randint(1, 3)\n",
        "        if strategy == 1:\n",
        "            return self.strategies['rock']\n",
        "        elif strategy == 2:\n",
        "            return self.strategies['paper']\n",
        "        else:  # 3 is only value left\n",
        "            return self.strategies['scissors']\n",
        "\n",
        "\n",
        "# Now we complete the HumanPlayer.\n",
        "class HumanPlayer(Player):\n",
        "    def __init__(self, name):\n",
        "        super().__init__(name)\n",
        "\n",
        "    def play_strategy(self):\n",
        "        while True:\n",
        "            user_input = input(f\"{self.name}, please choose a strategy (rock, paper, scissors): \").strip().lower()\n",
        "            if user_input in self.strategies:\n",
        "                return self.strategies[user_input]\n",
        "            else:\n",
        "                print(\"Invalid choice. Please choose rock, paper, or scissors.\")\n"
      ]
    },
    {
      "cell_type": "code",
      "execution_count": null,
      "metadata": {
        "colab": {
          "base_uri": "https://localhost:8080/"
        },
        "id": "lA5tgVGErUXZ",
        "outputId": "d503d2d2-f709-4122-9511-f22290f60f5c"
      },
      "outputs": [
        {
          "output_type": "stream",
          "name": "stdout",
          "text": [
            "\n",
            "Player: Robbie Playing the paper\n",
            "Player: Hal Playing the paper\n",
            "\n",
            "Robbie says: \"Paper!!\"\n",
            "Tie\n",
            "Hal says: \"Paper!!\"\n",
            "Tie\n"
          ]
        }
      ],
      "source": [
        "# TODO: Test your code here--pit two players against each other and see what they do!\n",
        "robbie = ComputerPlayer('Robbie')\n",
        "hal = ComputerPlayer('Hal')\n",
        "robbie_strategy = robbie.play_strategy()\n",
        "hal_strategy = hal.play_strategy()\n",
        "\n",
        "print()\n",
        "print(str(robbie)+ ' ' + str(robbie_strategy))\n",
        "print(str(hal)+ ' ' + str(hal_strategy))\n",
        "print()\n",
        "\n",
        "robbie.update_score(robbie_strategy, hal_strategy)\n",
        "hal.update_score(hal_strategy, robbie_strategy)"
      ]
    },
    {
      "cell_type": "markdown",
      "metadata": {
        "id": "ZKpS8AcHOL-U"
      },
      "source": [
        "## Playing the Game\n",
        "We have written for you code to play five rounds of Rock Paper Scissors against a computer player. The winner of each round is given as well as of the entire game."
      ]
    },
    {
      "cell_type": "code",
      "execution_count": null,
      "metadata": {
        "id": "UWXv0SEYOhSo",
        "outputId": "9e71d83f-1677-4eca-d9c8-6fc981d25e84",
        "colab": {
          "base_uri": "https://localhost:8080/"
        }
      },
      "outputs": [
        {
          "output_type": "stream",
          "name": "stdout",
          "text": [
            "Please enter your name, human player: Gizelle K\n",
            "Gizelle K, please choose a strategy (rock, paper, scissors): PAPER\n",
            "\n",
            "Player: Computer Player Playing the paper\n",
            "Player: Gizelle K Playing the paper\n",
            "\n",
            "Computer Player says: \"Paper!!\"\n",
            "Tie\n",
            "Gizelle K says: \"Paper!!\"\n",
            "Tie\n",
            "\n",
            "Player: Computer Player's score: 0\n",
            "Player: Gizelle K's score: 0\n",
            "\n",
            "Gizelle K, please choose a strategy (rock, paper, scissors): rock\n",
            "\n",
            "Player: Computer Player Playing the rock\n",
            "Player: Gizelle K Playing the rock\n",
            "\n",
            "Computer Player says: \"Rock!!\"\n",
            "Tie\n",
            "Gizelle K says: \"Rock!!\"\n",
            "Tie\n",
            "\n",
            "Player: Computer Player's score: 0\n",
            "Player: Gizelle K's score: 0\n",
            "\n",
            "Gizelle K, please choose a strategy (rock, paper, scissors): scissors\n",
            "\n",
            "Player: Computer Player Playing the scissors\n",
            "Player: Gizelle K Playing the scissors\n",
            "\n",
            "Computer Player says: \"Scissors!!\"\n",
            "Tie\n",
            "Gizelle K says: \"Scissors!!\"\n",
            "Tie\n",
            "\n",
            "Player: Computer Player's score: 0\n",
            "Player: Gizelle K's score: 0\n",
            "\n",
            "Gizelle K, please choose a strategy (rock, paper, scissors): rock\n",
            "\n",
            "Player: Computer Player Playing the rock\n",
            "Player: Gizelle K Playing the rock\n",
            "\n",
            "Computer Player says: \"Rock!!\"\n",
            "Tie\n",
            "Gizelle K says: \"Rock!!\"\n",
            "Tie\n",
            "\n",
            "Player: Computer Player's score: 0\n",
            "Player: Gizelle K's score: 0\n",
            "\n",
            "Gizelle K, please choose a strategy (rock, paper, scissors): scissors\n",
            "\n",
            "Player: Computer Player Playing the rock\n",
            "Player: Gizelle K Playing the scissors\n",
            "\n",
            "Computer Player says: \"Rock!!\"\n",
            "Rock wins over scissors\n",
            "Gizelle K says: \"Scissors!!\"\n",
            "Rock wins over scissors\n",
            "\n",
            "Player: Computer Player's score: 1\n",
            "Player: Gizelle K's score: -1\n",
            "\n",
            "Computer wins!\n"
          ]
        }
      ],
      "source": [
        "# Instantiating a computer player\n",
        "walle = ComputerPlayer()\n",
        "\n",
        "# Instantiating a human player\n",
        "human_name = input('Please enter your name, human player: ')\n",
        "human_player = HumanPlayer(human_name)\n",
        "\n",
        "for i in range(5):\n",
        "    computer_strategy = walle.play_strategy()\n",
        "    human_strategy = human_player.play_strategy()\n",
        "\n",
        "    print()\n",
        "    print(str(walle)+ ' ' + str(computer_strategy))\n",
        "    print(str(human_player)+ ' ' + str(human_strategy))\n",
        "    print()\n",
        "\n",
        "    walle.update_score(computer_strategy, human_strategy)\n",
        "    human_player.update_score(human_strategy, computer_strategy)\n",
        "\n",
        "    print()\n",
        "    print(str(walle)+ \"'s score: \" + str(walle.get_score()))\n",
        "    print(str(human_player)+ \"'s score: \" + str(human_player.get_score()))\n",
        "    print()\n",
        "\n",
        "walle_score = walle.get_score()\n",
        "human_score = human_player.get_score()\n",
        "\n",
        "if walle_score == human_score:\n",
        "    print('Good match: Tie')\n",
        "elif walle_score > human_score:\n",
        "    print('Computer wins!')\n",
        "else:\n",
        "    print('You win!')"
      ]
    },
    {
      "cell_type": "markdown",
      "metadata": {
        "id": "eAh7pJrnXoHn"
      },
      "source": [
        "### (Optional) Reflections\n",
        "Add a text cell below to answer the following questions:\n",
        "1. What do you feel more confident about after completing this lab?\n",
        "2. What do you feel you can use more help with after completing this lab?\n",
        "3. Do you have any constructive suggestions on how we can help you or improve this lab?"
      ]
    },
    {
      "cell_type": "markdown",
      "metadata": {
        "id": "p3EQNIB2XpyP"
      },
      "source": [
        "### Save your work to GitHub\n",
        "Please save this notebook to your lab repository."
      ]
    }
  ],
  "metadata": {
    "kernelspec": {
      "display_name": "Python 3",
      "language": "python",
      "name": "python3"
    },
    "language_info": {
      "codemirror_mode": {
        "name": "ipython",
        "version": 3
      },
      "file_extension": ".py",
      "mimetype": "text/x-python",
      "name": "python",
      "nbconvert_exporter": "python",
      "pygments_lexer": "ipython3",
      "version": "3.8.5"
    },
    "colab": {
      "provenance": [],
      "include_colab_link": true
    }
  },
  "nbformat": 4,
  "nbformat_minor": 0
}