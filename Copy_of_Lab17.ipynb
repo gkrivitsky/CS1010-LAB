{
  "cells": [
    {
      "cell_type": "markdown",
      "metadata": {
        "id": "view-in-github",
        "colab_type": "text"
      },
      "source": [
        "<a href=\"https://colab.research.google.com/github/gkrivitsky/CS1010-LAB/blob/main/Copy_of_Lab17.ipynb\" target=\"_parent\"><img src=\"https://colab.research.google.com/assets/colab-badge.svg\" alt=\"Open In Colab\"/></a>"
      ]
    },
    {
      "cell_type": "markdown",
      "metadata": {
        "id": "DrzodN__Lf7j"
      },
      "source": [
        "## <a href=\"https://colab.research.google.com/github/LMU-CMSI-1010/lab-notebooks-original/blob/main/Lab16.ipynb\" target=\"_parent\"><img src=\"https://colab.research.google.com/assets/colab-badge.svg\" alt=\"Open In Colab\"/></a>"
      ]
    },
    {
      "cell_type": "markdown",
      "metadata": {
        "id": "9aXfrLXg9seM"
      },
      "source": [
        "# Lab 17 Virtual Darts\n",
        "You go on vacation to Sea Ranch and are about to start working on the beach when you realize, “Wait, this is Sea Ranch…**NO CELL PHONE RECEPTION AND NO INTERNET!?**” You need the value of $\\pi$, but you don’t remember where it is, you can’t search the web, and you left your books at home. But wait! You can estimate the answers you need, with the help of, of all things, (virtual) darts. Knowing that the area of the unit circle is $\\pi$, and the area of the square that contains it is 4, you can throw a bunch of darts in the square and see what percentage of them end up in the circle. The ratio of darts that are in the circle and the total number of darts in the square is…$\\pi / 4$!"
      ]
    },
    {
      "cell_type": "markdown",
      "metadata": {
        "id": "eU4_TKsL5duf"
      },
      "source": [
        "## The `pi_estimate` function\n",
        "You can estimate $\\pi$ using virtual darts by **implementing `pi_estimate`, below, as follows:**\n",
        "* The `pi_estimate` function takes a single argument, `number_of_darts`. For that number of darts, the function should use `rng.uniform` to pick `x` and `y` coordinates between -1.0 and 1.0 (note that this will produce “darts” that fall within the 2x2 square centered at the origin)\n",
        "* Maintain a list of darts within the function—this starts out empty of course\n",
        "* For each dart, check whether the dart landed within the unit circle using the Pythogorean theorem: $x^2 + y^2 \\leq r^2$. Note: What is the radius $r$ if we’re using a unit circle?\n",
        "  * Keep track of the number of darts that ended up in the circle as well as the total number of darts “thrown” (note this latter number is the number of darts that ended up in the 2x2 square)\n",
        "  * If a dart was within the unit circle, store it in the overall list of darts as the tuple `(x, y, 'in')`\n",
        "  * If a dart was not within the unit circle, store it in the overall list of darts as the tuple `(x, y, 'out')`\n",
        "* Use the proportion (darts in circle / total darts) = $\\pi / 4$ to estimate the value of $\\pi$\n",
        "* Have `pi_estimate` return the tuple `(estimate, darts)` when it is finished\n"
      ]
    },
    {
      "cell_type": "code",
      "execution_count": null,
      "metadata": {
        "id": "KRenO5yQPLDH",
        "outputId": "b4aab039-d85c-4929-ca47-b97587fe2620",
        "colab": {
          "base_uri": "https://localhost:8080/"
        }
      },
      "outputs": [
        {
          "output_type": "stream",
          "name": "stdout",
          "text": [
            "Estimated π: 3.104\n",
            "Dart results: [(-0.1506731592718571, -0.3876129247887039, 'in'), (0.5490089400575164, 0.006374782591743511, 'in'), (-0.6339186938118229, 0.5691759340810723, 'in'), (0.6155446604631507, 0.8434431143093939, 'out'), (-0.7412148537584216, 0.16798254943711033, 'in')]\n"
          ]
        }
      ],
      "source": [
        "from numpy.random import default_rng\n",
        "\n",
        "rng = default_rng()  # Random number generator courtesy of numpy.\n",
        "\n",
        "def pi_estimate(number_of_darts):\n",
        "    \"\"\"\n",
        "    Estimates the value of π by throwing darts. This function will \"throw\"\n",
        "    the given number of darts at random coordinates within the 2x2 square\n",
        "    centered around the origin. If the chosen point is inside the unit circle,\n",
        "    it will consider it to be 'in'; otherwise it is 'out'. It keeps track of\n",
        "    how many are 'in' and how many are 'out'.\n",
        "\n",
        "    The function then records these coordinates and status as a tuple in\n",
        "    an overall list. For example: [(0, 0, 'in'), (0.5, 0.9, 'out')]\n",
        "\n",
        "    The return value of the function is a tuple consisting of its π estimate\n",
        "    and the overall list of dart-tuples.\n",
        "    \"\"\"\n",
        "    if number_of_darts < 1:\n",
        "        print('At least one dart is needed for estimate')\n",
        "        return None\n",
        "\n",
        "    number_of_hits = 0  # The number of darts that land inside the circle.\n",
        "    radius = 1.0  # Radius of the unit circle.\n",
        "    darts = []  # The total list of darts generated.\n",
        "\n",
        "    # \"Throw\" the given number_of_darts\n",
        "    for _ in range(number_of_darts):\n",
        "        x = rng.uniform(-1, 1)\n",
        "        y = rng.uniform(-1, 1)\n",
        "\n",
        "        # Check if the dart is inside the unit circle\n",
        "        if x**2 + y**2 <= radius**2:\n",
        "            darts.append((x, y, 'in'))  # Dart is inside the circle\n",
        "            number_of_hits += 1  # Increment hit counter\n",
        "        else:\n",
        "            darts.append((x, y, 'out'))  # Dart is outside the circle\n",
        "\n",
        "    # Estimate π using the ratio of hits to total darts\n",
        "    estimate = (number_of_hits / number_of_darts) * 4\n",
        "    return estimate, darts\n",
        "\n",
        "# Example usage:\n",
        "estimate, dart_results = pi_estimate(1000)\n",
        "print(\"Estimated π:\", estimate)\n",
        "print(\"Dart results:\", dart_results[:5])  # Show the first 5 results\n"
      ]
    },
    {
      "cell_type": "markdown",
      "metadata": {
        "id": "YfjNMJSY5men"
      },
      "source": [
        "## Test and Visualize\n",
        "\n",
        "While you’re working on `pi_estimate`, you can use the code below to run it, see your estimated value (“π-ish”), and visualize the random darts that you threw! Darts that `pi_estimate` marks as `'in'` will appear red, while darts that are marked as `'out'` will appear blue.\n",
        "\n",
        "Recommended sequence: first, generate a throwaway estimate and hardcoded list of darts, just to see if the visualization works. Next, start generating random darts but label them all `'in'` or `'out'`. Finally, add the Pythagorean theorem logic that will show whether the dart was within the circle. When you get here, you can also implement the correct estimate calculation."
      ]
    },
    {
      "cell_type": "code",
      "execution_count": null,
      "metadata": {
        "colab": {
          "base_uri": "https://localhost:8080/",
          "height": 718
        },
        "id": "vfQNdxmS5Vbv",
        "outputId": "72a2b9b1-2fd2-4e61-a23d-cc37090b4fe2",
        "scrolled": true
      },
      "outputs": [
        {
          "output_type": "stream",
          "name": "stdout",
          "text": [
            "How many darts? 8\n",
            "π estimate: 3.5\n"
          ]
        },
        {
          "output_type": "display_data",
          "data": {
            "text/plain": [
              "<Figure size 800x800 with 1 Axes>"
            ],
            "image/png": "[encoded data removed]"
          },
          "metadata": {}
        }
      ],
      "source": [
        "import matplotlib.pyplot as plt\n",
        "\n",
        "number_of_darts = int(input('How many darts? '))\n",
        "pi_ish, darts = pi_estimate(number_of_darts)\n",
        "\n",
        "in_points = list(filter(lambda p: p[2] == 'in', darts))\n",
        "out_points = list(filter(lambda p: p[2] == 'out', darts))\n",
        "x_in = [p[0] for p in in_points]\n",
        "y_in = [p[1] for p in in_points]\n",
        "x_out = [p[0] for p in out_points]\n",
        "y_out = [p[1] for p in out_points]\n",
        "\n",
        "plt.figure(figsize=(8, 8))\n",
        "plt.xlim((-1.0, 1.0))\n",
        "plt.ylim((-1.0, 1.0))\n",
        "plt.plot(x_in, y_in, 'rx', x_out, y_out, 'bx')\n",
        "\n",
        "print('π estimate:', pi_ish )"
      ]
    },
    {
      "cell_type": "code",
      "execution_count": null,
      "metadata": {
        "id": "WBAgiZwpLf7l"
      },
      "outputs": [],
      "source": []
    }
  ],
  "metadata": {
    "kernelspec": {
      "display_name": "Python 3",
      "language": "python",
      "name": "python3"
    },
    "language_info": {
      "codemirror_mode": {
        "name": "ipython",
        "version": 3
      },
      "file_extension": ".py",
      "mimetype": "text/x-python",
      "name": "python",
      "nbconvert_exporter": "python",
      "pygments_lexer": "ipython3",
      "version": "3.8.5"
    },
    "colab": {
      "provenance": [],
      "include_colab_link": true
    }
  },
  "nbformat": 4,
  "nbformat_minor": 0
}