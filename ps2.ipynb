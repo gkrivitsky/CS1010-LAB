{
  "cells": [
    {
      "cell_type": "markdown",
      "metadata": {
        "id": "view-in-github",
        "colab_type": "text"
      },
      "source": [
        "<a href=\"https://colab.research.google.com/github/gkrivitsky/CS1010-LAB/blob/main/ps2.ipynb\" target=\"_parent\"><img src=\"https://colab.research.google.com/assets/colab-badge.svg\" alt=\"Open In Colab\"/></a>"
      ]
    },
    {
      "cell_type": "markdown",
      "metadata": {
        "id": "U4L0nu8HfZx2"
      },
      "source": [
        "# Problem Set 2\n",
        "#### CMSI 1010: Computer Programming and Lab"
      ]
    },
    {
      "cell_type": "markdown",
      "metadata": {
        "id": "UrHgrgoifZx6"
      },
      "source": [
        "## Important Dates\n",
        "\n",
        " - Released: 2024-01-30 at 12:00 am [PT]\n",
        " - Deadline: 2024-02-08 at 11:59 pm [PT]"
      ]
    },
    {
      "cell_type": "markdown",
      "metadata": {
        "id": "lGWJOUPYfZx7"
      },
      "source": [
        "# Question 1: Reading Notes\n",
        "\n",
        "All readings are from the [_Think Python_ textbook](http://greenteapress.com/thinkpython2/thinkpython2.pdf):\n",
        "* Chapter 3\n",
        "* Sections 5.1-5.3\n",
        "* Sections 6.1-6.4\n",
        "\n",
        "You should also review Sections 1.4-1.5 and 2.5.\n",
        "\n",
        "In your own words, summarize the key topics covered in the textbook chapters. Additionally, relate these topics to the concepts and material we've learned in class. How do the ideas presented in the textbook connect to the lessons and discussions we've had in the classroom? Please provide specific examples to support your points."
      ]
    },
    {
      "cell_type": "markdown",
      "metadata": {
        "id": "YZJ_2BvYfZx7"
      },
      "source": [
        "_Reading notes should go here_"
      ]
    },
    {
      "cell_type": "markdown",
      "metadata": {
        "nbgrader": {
          "grade": false,
          "grade_id": "q1_prompt",
          "locked": true,
          "schema_version": 1,
          "solution": false
        },
        "id": "rA4Gog_jt_Eb"
      },
      "source": [
        "# Question 2\n",
        "\n",
        "In this question, you'll write some coding that performs string manipulation. This is pretty much your warm-up.\n",
        "\n",
        "Remember the first cell block is where you put your answer. There may already be some code there, in which case **don't remove it**; just add what is asked for.\n",
        "\n",
        "All the cells under the first one are autograder cells; don't edit those! But you can run them (using the Run button at the top) to test your own code! If they don't spit out any error messages, then your code works!"
      ]
    },
    {
      "cell_type": "markdown",
      "metadata": {
        "collapsed": true,
        "nbgrader": {
          "grade": false,
          "grade_id": "q1a_prompt",
          "locked": true,
          "points": 10,
          "schema_version": 1,
          "solution": false
        },
        "id": "kmMVb-QCt_Eb"
      },
      "source": [
        "### Part A\n",
        "\n",
        "What's your favorite *positive* number? Create a variable named `favorite_number` and assign it to be your favorite *positive* number."
      ]
    },
    {
      "cell_type": "code",
      "execution_count": 1,
      "metadata": {
        "collapsed": true,
        "nbgrader": {
          "grade": false,
          "grade_id": "q1a",
          "locked": false,
          "schema_version": 1,
          "solution": true
        },
        "id": "wnJvNbNat_Eb"
      },
      "outputs": [],
      "source": [
        "favorite_number = 8\n"
      ]
    },
    {
      "cell_type": "code",
      "execution_count": null,
      "metadata": {
        "collapsed": true,
        "nbgrader": {
          "grade": true,
          "grade_id": "q1a_test",
          "locked": true,
          "points": 6,
          "schema_version": 1,
          "solution": false
        },
        "id": "FwpjbyHKt_Ec"
      },
      "outputs": [],
      "source": [
        "print(\"My favorite number is: \" + str(favorite_number))\n",
        "assert favorite_number >= 0"
      ]
    },
    {
      "cell_type": "markdown",
      "metadata": {
        "nbgrader": {
          "grade": false,
          "grade_id": "q1b_prompt",
          "locked": true,
          "schema_version": 1,
          "solution": false
        },
        "id": "QDKna--Vt_Ec"
      },
      "source": [
        "### Part B\n",
        "\n",
        "Print out a famous quote! In the code below, create two variables:\n",
        " - one named `famous_person`,\n",
        " - the other named `their_quote`,\n",
        "\n",
        "and assign them to be the name of some famous person and a quote that they said, respectively. Remember: these are *strings*!"
      ]
    },
    {
      "cell_type": "code",
      "execution_count": 2,
      "metadata": {
        "collapsed": true,
        "nbgrader": {
          "grade": false,
          "grade_id": "q1b",
          "locked": false,
          "schema_version": 1,
          "solution": true
        },
        "id": "CL1oDxkJt_Ec"
      },
      "outputs": [],
      "source": [
        "famous_person = \"Albraham Lincoln\"\n",
        "their_quote = \"The best way to predict your future is to create it.\""
      ]
    },
    {
      "cell_type": "code",
      "execution_count": null,
      "metadata": {
        "collapsed": true,
        "nbgrader": {
          "grade": true,
          "grade_id": "q1b_test",
          "locked": true,
          "points": 6,
          "schema_version": 1,
          "solution": false
        },
        "id": "CRKIyPPIt_Ed"
      },
      "outputs": [],
      "source": [
        "print(\"{}, at age {}, said:\\n\\n\\\"{}\\\"\".format(famous_person, favorite_number, their_quote))\n",
        "\n",
        "assert len(famous_person) > 0\n",
        "assert len(their_quote) > 0"
      ]
    },
    {
      "cell_type": "markdown",
      "metadata": {
        "nbgrader": {
          "grade": false,
          "grade_id": "q1c_prompt",
          "locked": true,
          "schema_version": 1,
          "solution": false
        },
        "id": "U9HXPLwft_Ed"
      },
      "source": [
        "### Part C\n",
        "\n",
        "You're working late on a homework assignment and have copied a few lines from a Wikipedia article. In your tired stupor, your copy/paste skills leave something to be desired. Rather than try to force your mouse hand to stop shaking, you figure it's easier to write a small Python program to strip out errant whitespace from your copy-pasting.\n",
        "\n",
        "**Leaving the code below as-is**, **add more code** that strips away whitespace in the variables `line1`, `line2`, and `line3`. Hint: recall the string method `strip`.\n",
        "\n",
        "In other words, reassign each of the three variables (keeping their names the same, and their respective content otherwise unaltered) so that the leading and trailing whitespace on both ends is removed."
      ]
    },
    {
      "cell_type": "code",
      "execution_count": 3,
      "metadata": {
        "collapsed": true,
        "nbgrader": {
          "grade": false,
          "grade_id": "q1c",
          "locked": false,
          "schema_version": 1,
          "solution": true
        },
        "id": "HCA1_Gj6t_Ed",
        "colab": {
          "base_uri": "https://localhost:8080/"
        },
        "outputId": "00c17701-419d-48c7-fbe0-2900a67f10ce"
      },
      "outputs": [
        {
          "output_type": "stream",
          "name": "stdout",
          "text": [
            "Python supports multiple programming paradigms, including object-oriented, imperative and functional programming or procedural styles. It features a dynamic type system and automatic memory management and has a large and comprehensive standard library.\n"
          ]
        }
      ],
      "source": [
        "line1 = 'Python supports multiple programming paradigms, including object-oriented, imperative\\n'\n",
        "line2 = '  and functional programming or procedural styles. It features a dynamic type\\n'\n",
        "line3 = ' system and automatic memory management and has a large and comprehensive standard library.\\n '\n",
        "\n",
        "### BEGIN SOLUTION\n",
        "line1 = line1.strip()\n",
        "line2 = line2.strip()\n",
        "line3 = line3.strip()\n",
        "print(line1, line2, line3)\n",
        "\n",
        "### END SOLUTION"
      ]
    },
    {
      "cell_type": "code",
      "execution_count": null,
      "metadata": {
        "collapsed": true,
        "nbgrader": {
          "grade": true,
          "grade_id": "q1c_test",
          "locked": true,
          "points": 6,
          "schema_version": 1,
          "solution": false
        },
        "id": "88jkEdiYt_Ee"
      },
      "outputs": [],
      "source": [
        "assert line1[-1] != '\\n'\n",
        "assert line2[0] != line2[1] != ' '\n",
        "assert line2[-1] != '\\n'\n",
        "assert line3[0] != ' '\n",
        "assert line3[-1] != '\\n'"
      ]
    },
    {
      "cell_type": "markdown",
      "metadata": {
        "nbgrader": {
          "grade": false,
          "grade_id": "q1d_prompt",
          "locked": true,
          "schema_version": 1,
          "solution": false
        },
        "id": "y-95nGXwt_Ee"
      },
      "source": [
        "### Part D\n",
        "\n",
        "You discover that there are numbers in the text you'd like to be able to parse out for some math down the road. After stripping out the trailing whitespace, convert the numbers to their proper numerical form.\n",
        "\n",
        "Assign them to the variables `num1`, `num2`, and `num3` respectively."
      ]
    },
    {
      "cell_type": "code",
      "execution_count": 4,
      "metadata": {
        "collapsed": true,
        "nbgrader": {
          "grade": false,
          "grade_id": "q1d",
          "locked": false,
          "schema_version": 1,
          "solution": true
        },
        "id": "sIZT7vpSt_Ee",
        "colab": {
          "base_uri": "https://localhost:8080/"
        },
        "outputId": "b8ee3e9d-384e-4432-cce2-fb3635716842"
      },
      "outputs": [
        {
          "output_type": "stream",
          "name": "stdout",
          "text": [
            "495.59863 134 -5.4\n"
          ]
        }
      ],
      "source": [
        "line1 = ' 495.59863 \\n'\n",
        "line2 = '\\t134  '\n",
        "line3 = '\\n\\t -5.4 \\t'\n",
        "\n",
        "### BEGIN SOLUTION\n",
        "\n",
        "num1 = float(line1)\n",
        "num2 = int(line2)\n",
        "num3 = float(line3)\n",
        "\n",
        "print(num1, num2, num3)\n",
        "\n",
        "### END SOLUTION"
      ]
    },
    {
      "cell_type": "code",
      "execution_count": null,
      "metadata": {
        "collapsed": true,
        "nbgrader": {
          "grade": true,
          "grade_id": "q1d_test",
          "locked": true,
          "points": 6,
          "schema_version": 1,
          "solution": false
        },
        "id": "4itWcsrmt_Ee"
      },
      "outputs": [],
      "source": [
        "assert num1 > 495 and num1 < 496\n",
        "assert num2 == 134\n",
        "assert num3 > -6 and num3 < -5"
      ]
    },
    {
      "cell_type": "markdown",
      "metadata": {
        "nbgrader": {
          "grade": false,
          "grade_id": "q1e_prompt",
          "locked": true,
          "schema_version": 1,
          "solution": false
        },
        "id": "DdOcwgjSt_Ef"
      },
      "source": [
        "### Part E\n",
        "\n",
        "Take the `number` below, find its square root, convert it to a string, and then assign it to a variable named `str_version`.\n",
        "\n",
        "You **must use the correct arithmetic operator for the square root (hint: recall that arithmetic operators include add/subtract, multiply/divide, exponents, and remainders), as well as the correct casting function for the string conversion**.\n",
        "\n",
        "**No imports allowed!**"
      ]
    },
    {
      "cell_type": "code",
      "execution_count": 5,
      "metadata": {
        "collapsed": true,
        "nbgrader": {
          "grade": false,
          "grade_id": "q1e",
          "locked": false,
          "schema_version": 1,
          "solution": true
        },
        "id": "RLxoC3Ijt_Ef",
        "colab": {
          "base_uri": "https://localhost:8080/"
        },
        "outputId": "1e1cf3d4-6be1-4a76-ca73-440e4a3c142b"
      },
      "outputs": [
        {
          "output_type": "stream",
          "name": "stdout",
          "text": [
            "1.7724538509055743\n"
          ]
        }
      ],
      "source": [
        "number = 3.14159265359\n",
        "\n",
        "### BEGIN SOLUTION\n",
        "\n",
        "str_version= str(number ** 0.5)\n",
        "print(str_version)\n",
        "\n",
        "\n",
        "### END SOLUTION"
      ]
    },
    {
      "cell_type": "code",
      "execution_count": null,
      "metadata": {
        "collapsed": true,
        "nbgrader": {
          "grade": true,
          "grade_id": "q1e_test",
          "locked": true,
          "points": 6,
          "schema_version": 1,
          "solution": false
        },
        "id": "EfxHfYZPt_Ef"
      },
      "outputs": [],
      "source": [
        "assert str_version == \"1.7724538509055743\""
      ]
    },
    {
      "cell_type": "markdown",
      "metadata": {
        "id": "iZK9hyu8fZyC"
      },
      "source": [
        "# Question 3 : print vs. return"
      ]
    },
    {
      "cell_type": "markdown",
      "metadata": {
        "id": "fHz-ebrXfZyC"
      },
      "source": [
        "### Part A\n",
        "Run the code cell below."
      ]
    },
    {
      "cell_type": "code",
      "execution_count": 57,
      "metadata": {
        "id": "D91s-ri0fZyC"
      },
      "outputs": [],
      "source": [
        "def f1(x):\n",
        "    print(x + 1)\n",
        "\n",
        "def f2(x):\n",
        "    return(x + 1)"
      ]
    },
    {
      "cell_type": "code",
      "execution_count": 58,
      "metadata": {
        "id": "T-6ClPS5fZyC",
        "colab": {
          "base_uri": "https://localhost:8080/"
        },
        "outputId": "a691e7f5-4cc7-4ea3-9fbf-2cb824131828"
      },
      "outputs": [
        {
          "output_type": "stream",
          "name": "stdout",
          "text": [
            "4\n"
          ]
        }
      ],
      "source": [
        "(f1(3))"
      ]
    },
    {
      "cell_type": "code",
      "execution_count": 59,
      "metadata": {
        "id": "nR9_NZ0WfZyD",
        "colab": {
          "base_uri": "https://localhost:8080/"
        },
        "outputId": "88b6e856-6ac9-4641-95f0-b9ff3a7ae767"
      },
      "outputs": [
        {
          "output_type": "execute_result",
          "data": {
            "text/plain": [
              "4"
            ]
          },
          "metadata": {},
          "execution_count": 59
        }
      ],
      "source": [
        "f2(3)"
      ]
    },
    {
      "cell_type": "markdown",
      "metadata": {
        "id": "liC3cgbGfZyD"
      },
      "source": [
        " What happens when we call these functions? It looks like they behave in exactly the same way, but they really don’t. Type your answer in the cell below:"
      ]
    },
    {
      "cell_type": "markdown",
      "metadata": {
        "id": "BIlelSNvfZyD"
      },
      "source": [
        "_Your answer here_"
      ]
    },
    {
      "cell_type": "markdown",
      "metadata": {
        "id": "iCcVWYWvfZyD"
      },
      "source": [
        "### Part B\n",
        "Now run this code cell"
      ]
    },
    {
      "cell_type": "code",
      "execution_count": 72,
      "metadata": {
        "id": "o0YArc2nfZyD",
        "colab": {
          "base_uri": "https://localhost:8080/"
        },
        "outputId": "48310f07-c0e1-4877-a0c5-d0081fd64a33"
      },
      "outputs": [
        {
          "output_type": "stream",
          "name": "stdout",
          "text": [
            "4\n"
          ]
        }
      ],
      "source": [
        "a = f1(3)\n",
        "b = f2(3)"
      ]
    },
    {
      "cell_type": "code",
      "execution_count": 74,
      "metadata": {
        "id": "Iy_XHc7gfZyD"
      },
      "outputs": [],
      "source": [
        " a"
      ]
    },
    {
      "cell_type": "code",
      "execution_count": 75,
      "metadata": {
        "id": "n5DOyAoTfZyE",
        "colab": {
          "base_uri": "https://localhost:8080/"
        },
        "outputId": "1927f07c-7b87-48f4-93a6-79063f3b4753"
      },
      "outputs": [
        {
          "output_type": "execute_result",
          "data": {
            "text/plain": [
              "4"
            ]
          },
          "metadata": {},
          "execution_count": 75
        }
      ],
      "source": [
        "b"
      ]
    },
    {
      "cell_type": "markdown",
      "metadata": {
        "id": "Yw-9CaNYfZyE"
      },
      "source": [
        "What are the values of `a` and `b`? Why are they different? Type your answer in the cell below:"
      ]
    },
    {
      "cell_type": "markdown",
      "metadata": {
        "id": "QaKLsoC7fZyE"
      },
      "source": [
        "_Your answer here_"
      ]
    },
    {
      "cell_type": "markdown",
      "metadata": {
        "id": "gk1PW2dOfZyE"
      },
      "source": [
        "### Part C\n",
        "Run the code cell below"
      ]
    },
    {
      "cell_type": "code",
      "execution_count": 76,
      "metadata": {
        "id": "POv2RA-ufZyE",
        "colab": {
          "base_uri": "https://localhost:8080/"
        },
        "outputId": "69623978-7240-4824-8861-82685ba45b4a"
      },
      "outputs": [
        {
          "output_type": "stream",
          "name": "stdout",
          "text": [
            "4\n",
            "None\n"
          ]
        }
      ],
      "source": [
        "print(f1(3))"
      ]
    },
    {
      "cell_type": "code",
      "execution_count": 77,
      "metadata": {
        "id": "PVtnV2B6fZyE",
        "colab": {
          "base_uri": "https://localhost:8080/"
        },
        "outputId": "a0b3064f-9c06-4664-de90-1e1e59916733"
      },
      "outputs": [
        {
          "output_type": "stream",
          "name": "stdout",
          "text": [
            "4\n"
          ]
        }
      ],
      "source": [
        "print(f2(3))"
      ]
    },
    {
      "cell_type": "markdown",
      "metadata": {
        "id": "WR3I6mwTfZyE"
      },
      "source": [
        " What is the output? Why are you getting this output? Type your answer in the cell below:"
      ]
    },
    {
      "cell_type": "markdown",
      "metadata": {
        "id": "nTiP7wEdfZyE"
      },
      "source": [
        "_Your answer here_"
      ]
    },
    {
      "cell_type": "markdown",
      "metadata": {
        "id": "zN-N19LafZyF"
      },
      "source": [
        "### Part D\n",
        "You know the drill 😁"
      ]
    },
    {
      "cell_type": "code",
      "execution_count": 79,
      "metadata": {
        "id": "sKwKwJUXfZyF",
        "colab": {
          "base_uri": "https://localhost:8080/"
        },
        "outputId": "228f7ca2-f099-4714-ce22-2438c1cf2a87"
      },
      "outputs": [
        {
          "output_type": "stream",
          "name": "stdout",
          "text": [
            "4\n"
          ]
        }
      ],
      "source": [
        "f1(3)"
      ]
    },
    {
      "cell_type": "code",
      "execution_count": 80,
      "metadata": {
        "id": "CJUTTWajfZyF",
        "colab": {
          "base_uri": "https://localhost:8080/"
        },
        "outputId": "43b3d7c3-6423-4887-d66f-fa36740f47b8"
      },
      "outputs": [
        {
          "output_type": "execute_result",
          "data": {
            "text/plain": [
              "4"
            ]
          },
          "metadata": {},
          "execution_count": 80
        }
      ],
      "source": [
        "f2(3)"
      ]
    },
    {
      "cell_type": "markdown",
      "metadata": {
        "id": "cRRX3qzEfZyF"
      },
      "source": [
        "Study the output lines.\n",
        "    \n",
        "    1. Why are you getting this output?"
      ]
    },
    {
      "cell_type": "markdown",
      "metadata": {
        "id": "gZyMXf59fZyF"
      },
      "source": [
        "Were getting the first one because we can't add one to none. Were gettting the second one because it's adding none to a known integer."
      ]
    },
    {
      "cell_type": "markdown",
      "metadata": {
        "id": "pOJ6vDXTfZyF"
      },
      "source": [
        "    2. What do all these examples tell us about when we want to return and when we want to print? (or, put another way: When is printing useful? When is returning useful?)  "
      ]
    },
    {
      "cell_type": "markdown",
      "metadata": {
        "id": "_qLOhNhjfZyF"
      },
      "source": [
        "It tells us that printing is highly needed when we are printing it one time, especially durimg string statements."
      ]
    },
    {
      "cell_type": "markdown",
      "metadata": {
        "id": "p3h5vb8rfZyF"
      },
      "source": [
        "_Note:_ You might find it more helpful to explicitly `return None` when you don’t want your function to return anything. This way, you’ll always remember that what Python is _actually_ doing is returning `None` if you don’t tell it to return."
      ]
    },
    {
      "cell_type": "markdown",
      "metadata": {
        "id": "sxUhuC8ffZyF"
      },
      "source": [
        "## Question 4: Mystery program\n",
        "\n",
        "(This is problem 6.1 in the book.) _Do not run this program._ Just look at it and determine the output. Trace what’s happening using a **stack diagram**. Find out what the final outcome is, and _show your work_.\n",
        "    "
      ]
    },
    {
      "cell_type": "markdown",
      "metadata": {
        "id": "SKUhUTM-fZyG"
      },
      "source": [
        "    def b(z):\n",
        "        prod = a(z, z)\n",
        "        print(z, prod)\n",
        "        return prod\n",
        "\n",
        "    def a(x, y):\n",
        "        x = x + 1\n",
        "        return x * y\n",
        "\n",
        "    def c(x, y, z):\n",
        "        total = x + y + z\n",
        "        square = b(total) ** 2\n",
        "        return square\n",
        "\n",
        "    x = 1\n",
        "    y = x + 1\n",
        "    print(c(x, y + 3, x + y))"
      ]
    },
    {
      "cell_type": "markdown",
      "metadata": {
        "id": "ln2igOozfZyG"
      },
      "source": [
        "You may either draw the diagram by hand or use a drawing program. If you draw the diagram by hand, take picture or scan it.\n",
        "Upload your image to your google drive and make sure it's a public folder and get the shareable link by right-clicking on the picture and choose 'Get a sharable link'. You just need the id of the image so copy that (the id is between /d/ and /view). ** There is a text cell below but it is invisible, you have to click below to make it show.** Now paste the ID in the link below where it says \"PASTE ID HERE.\""
      ]
    },
    {
      "cell_type": "markdown",
      "metadata": {
        "id": "vzN14obsfZyG"
      },
      "source": []
    },
    {
      "cell_type": "markdown",
      "source": [],
      "metadata": {
        "id": "JIZY5VTOMNgY"
      }
    },
    {
      "cell_type": "markdown",
      "metadata": {
        "id": "ewbw5j67fZyG"
      },
      "source": [
        "## Question 5: Guess my number"
      ]
    },
    {
      "cell_type": "markdown",
      "metadata": {
        "id": "0NXm1NitfZyG"
      },
      "source": [
        "Write a Guess My Number! game. In this game, your program will choose a number, and the user tries to guess that number. Here is an example of how the program will work:"
      ]
    },
    {
      "cell_type": "markdown",
      "metadata": {
        "id": "7dNlfcl2fZyG"
      },
      "source": [
        "    Ready to guess? My number is between 0 and 30.\n",
        "    Enter your guess now:\n",
        "    ? 5\n",
        "    Too low!\n",
        "    ? 20\n",
        "    Too high!\n",
        "    ? 13\n",
        "    Too low!\n",
        "    ? 17\n",
        "    Correct! You win!  "
      ]
    },
    {
      "cell_type": "markdown",
      "metadata": {
        "id": "6BlkDDrofZyG"
      },
      "source": [
        "For this game, we will need to generate a random number for the user to guess. For this, import the `random` module (review the lab notebooks for a refresher). We’ll use this module to generate a random integer using the function `randint` as follows: `random.randint(lo, hi)`, where `lo` and `hi` are integers that tell the code the range in which to generate a random integer (this range is inclusive). Let’s use 0 to 30 for now."
      ]
    },
    {
      "cell_type": "markdown",
      "metadata": {
        "id": "huA1CW9vfZyG"
      },
      "source": [
        "Write a function `guess_compare` that asks the user for a guess (remember how to get user input?), then compares that guess with the correct number and prints out `Too low!`, `Too high!`, or `Correct!` _Hint: Your function `guess_compare` must **return** whether the guess was correct._\n",
        "\n",
        "Give the user 5 guesses (hint: remember how we gave the robot 5 chances to reach a wall in Lab 05?). If the user has not yet guessed the number, print out the correct answer.\n",
        "    \n",
        "Test your game."
      ]
    },
    {
      "cell_type": "code",
      "source": [
        "import random\n",
        "guess_compare = int(input('Guess a number between 0 and 30: 1'))\n",
        "function = random. randint (0,30)\n",
        "guesses = 0\n",
        "while guesses in range (5):\n",
        "\n",
        "  if guess_compare < function and guesses < 5:\n",
        "    print ('Too Low!')\n",
        "    guesses += 1\n",
        "    guess_compare = int (input ('Guess again: '))\n",
        "\n",
        "  elif guess_compare > function and guesses < 5:\n",
        "    print( 'Too High!')\n",
        "    guesses += 1\n",
        "    guess_compare = int(input ( 'Guess again: '))\n",
        "\n",
        "  elif guess_compare == function:\n",
        "    guesses += 1\n",
        "    print ('Correct!')\n",
        "\n",
        "  else:\n",
        "    guesses += 1\n",
        "    print('You lost!')\n",
        "\n",
        "print( 'The correct number was: ', function, ' and you had ', guesses, ' guesses.')"
      ],
      "metadata": {
        "colab": {
          "base_uri": "https://localhost:8080/"
        },
        "id": "sjX8LXJgIjCi",
        "outputId": "044a60cd-f03c-4738-ce40-8b2d157a5a94"
      },
      "execution_count": 42,
      "outputs": [
        {
          "output_type": "stream",
          "name": "stdout",
          "text": [
            "Guess a number between 0 and 30: 15\n",
            "Too Low!\n",
            "Guess again: 20\n",
            "Too High!\n",
            "Guess again: 25\n",
            "Too High!\n",
            "Guess again: 28\n",
            "Too High!\n",
            "Guess again: 27\n",
            "Too High!\n",
            "Guess again: 27\n",
            "The correct number was:  7  and you had  5  guesses.\n"
          ]
        }
      ]
    }
  ],
  "metadata": {
    "kernelspec": {
      "display_name": "Python 3",
      "language": "python",
      "name": "python3"
    },
    "language_info": {
      "codemirror_mode": {
        "name": "ipython",
        "version": 3
      },
      "file_extension": ".py",
      "mimetype": "text/x-python",
      "name": "python",
      "nbconvert_exporter": "python",
      "pygments_lexer": "ipython3",
      "version": "3.8.5"
    },
    "colab": {
      "provenance": [],
      "include_colab_link": true
    }
  },
  "nbformat": 4,
  "nbformat_minor": 0
}