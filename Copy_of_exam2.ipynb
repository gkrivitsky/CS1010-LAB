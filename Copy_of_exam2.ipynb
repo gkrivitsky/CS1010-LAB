{
  "cells": [
    {
      "cell_type": "markdown",
      "metadata": {
        "id": "view-in-github",
        "colab_type": "text"
      },
      "source": [
        "<a href=\"https://colab.research.google.com/github/gkrivitsky/CS1010-LAB/blob/main/Copy_of_exam2.ipynb\" target=\"_parent\"><img src=\"https://colab.research.google.com/assets/colab-badge.svg\" alt=\"Open In Colab\"/></a>"
      ]
    },
    {
      "cell_type": "markdown",
      "metadata": {
        "id": "EGywpsUtj5rg"
      },
      "source": [
        "## <a href=\"https://colab.research.google.com/github/LMU-CMSI-1010/exam2/blob/main/exam2.ipynb\" target=\"_parent\"><img src=\"https://colab.research.google.com/assets/colab-badge.svg\" alt=\"Open In Colab\"/></a>"
      ]
    },
    {
      "cell_type": "markdown",
      "metadata": {
        "id": "8uUWyu_Hj8lR"
      },
      "source": [
        "# Exam 2 Coding Questions"
      ]
    },
    {
      "cell_type": "markdown",
      "metadata": {
        "id": "9aXfrLXg9seM"
      },
      "source": [
        "## Question 21 - Tuple Product\n",
        "\n",
        "Write a recursive function tuple_product that, given a tuple of integers, will return the product of that tuple's integers. Extra credit: Have the function support nested tuples.\n",
        "\n",
        "- You can check if a variable is a tuple: `type(v)` is tuple will only be `True` if `v` is a tuple\n",
        "\n",
        "- You can also check if a variable is an integer: `type(v)` is `int` will only be `True` if `v` is an integer\n",
        "\n",
        "For example, `tuple_product((5, 6, 7))` should return `210`, `tuple_product((3, -2, 3))` should return `-18`, etc.\n",
        "\n",
        "For extra credit, `tuple_product(((1), (1, 2), (1, 2, 4), (1, 2, 4, 8)))` would return `1024`, `tuple_product(((-1, -1, -1), (8, 3), (6)))` would return `-144`, etc."
      ]
    },
    {
      "cell_type": "code",
      "execution_count": null,
      "metadata": {
        "id": "il5_urtt-WvH",
        "outputId": "7caa4064-3f5f-4b83-d781-070ee90ae420",
        "colab": {
          "base_uri": "https://localhost:8080/"
        }
      },
      "outputs": [
        {
          "output_type": "stream",
          "name": "stdout",
          "text": [
            "210\n",
            "-18\n",
            "1024\n",
            "-144\n"
          ]
        }
      ],
      "source": [
        "def tuple_product(t):\n",
        "    # Base case: if the element is an integer, return it\n",
        "    if type(t) is int:\n",
        "        return t\n",
        "\n",
        "    # If the element is a tuple, we need to compute the product of the elements in the tuple\n",
        "    elif type(t) is tuple:\n",
        "        product = 1  # Start with a neutral element for multiplication\n",
        "        for item in t:\n",
        "            # Recursively calculate the product for each item in the tuple\n",
        "            product *= tuple_product(item)\n",
        "        return product\n",
        "\n",
        "    # If the element is neither a tuple nor an integer, return nothing (None)\n",
        "    return None\n",
        "\n",
        "# Test cases\n",
        "print(tuple_product((5, 6, 7)))  # 210\n",
        "print(tuple_product((3, -2, 3)))  # -18\n",
        "print(tuple_product(((1), (1, 2), (1, 2, 4), (1, 2, 4, 8))))  # 1024\n",
        "print(tuple_product(((-1, -1, -1), (8, 3), (6))))  # -144\n"
      ]
    },
    {
      "cell_type": "markdown",
      "metadata": {
        "id": "SEwdZQ0Wk2TF"
      },
      "source": [
        "## Question 22 - Chicago Dice Game\n",
        "\n",
        "The Chicago Dice Game uses two (2) dice and can have two to six players. There are 11 rounds in the game. The rounds are numbered 2–12. For each round, each player rolls the dice. If the sum of the dice equals the number of the round (e.g., roll 3 + 4 = 7 during round 7), the player gets a point. Otherwise, the player's score stays the same.\n",
        "\n",
        "Complete the implementation of the `ChicagoDiceGame` class derived from the DiceGame class below. You will need to write the constructor `__init__` and override the method play for the Chicago Dice Game. You can add any methods you need to play the game.\n",
        "\n",
        "If your code updates scores correctly, you do not have to implement winners again and can use the implementation in the DiceGame parent class."
      ]
    },
    {
      "cell_type": "code",
      "execution_count": null,
      "metadata": {
        "id": "QgpKA81MlCEW",
        "outputId": "9bcd9877-3b7e-4b30-ad10-722ad2dafc85",
        "colab": {
          "base_uri": "https://localhost:8080/"
        }
      },
      "outputs": [
        {
          "output_type": "stream",
          "name": "stdout",
          "text": [
            "\n",
            "Round 2:\n",
            "Jack rolled 6 + 3 = 9\n",
            "Jack does not score.\n",
            "Jill rolled 3 + 3 = 6\n",
            "Jill does not score.\n",
            "\n",
            "Round 3:\n",
            "Jack rolled 2 + 1 = 3\n",
            "Jack scores a point!\n",
            "Jill rolled 1 + 2 = 3\n",
            "Jill scores a point!\n",
            "\n",
            "Round 4:\n",
            "Jack rolled 4 + 5 = 9\n",
            "Jack does not score.\n",
            "Jill rolled 3 + 6 = 9\n",
            "Jill does not score.\n",
            "\n",
            "Round 5:\n",
            "Jack rolled 1 + 4 = 5\n",
            "Jack scores a point!\n",
            "Jill rolled 2 + 4 = 6\n",
            "Jill does not score.\n",
            "\n",
            "Round 6:\n",
            "Jack rolled 3 + 3 = 6\n",
            "Jack scores a point!\n",
            "Jill rolled 4 + 5 = 9\n",
            "Jill does not score.\n",
            "\n",
            "Round 7:\n",
            "Jack rolled 4 + 4 = 8\n",
            "Jack does not score.\n",
            "Jill rolled 1 + 5 = 6\n",
            "Jill does not score.\n",
            "\n",
            "Round 8:\n",
            "Jack rolled 2 + 4 = 6\n",
            "Jack does not score.\n",
            "Jill rolled 2 + 2 = 4\n",
            "Jill does not score.\n",
            "\n",
            "Round 9:\n",
            "Jack rolled 5 + 2 = 7\n",
            "Jack does not score.\n",
            "Jill rolled 3 + 3 = 6\n",
            "Jill does not score.\n",
            "\n",
            "Round 10:\n",
            "Jack rolled 6 + 5 = 11\n",
            "Jack does not score.\n",
            "Jill rolled 4 + 3 = 7\n",
            "Jill does not score.\n",
            "\n",
            "Round 11:\n",
            "Jack rolled 3 + 1 = 4\n",
            "Jack does not score.\n",
            "Jill rolled 3 + 2 = 5\n",
            "Jill does not score.\n",
            "\n",
            "Round 12:\n",
            "Jack rolled 6 + 1 = 7\n",
            "Jack does not score.\n",
            "Jill rolled 1 + 4 = 5\n",
            "Jill does not score.\n",
            "['Jack']\n"
          ]
        }
      ],
      "source": [
        "import random\n",
        "\n",
        "class Dice():\n",
        "    def __init__(self):\n",
        "        self.name = 'two'\n",
        "\n",
        "    def roll(self):\n",
        "        die1 = random.randint(1, 6)\n",
        "        die2 = random.randint(1, 6)\n",
        "        return die1, die2\n",
        "\n",
        "class DiceGame():\n",
        "    def __init__(self, players):\n",
        "        self.dice = Dice()\n",
        "        self.players = players\n",
        "        self.scores = {}\n",
        "\n",
        "        # Initialize scores of all players to 0.\n",
        "        for player in self.players:\n",
        "            self.scores[player] = 0\n",
        "\n",
        "    def play(self):\n",
        "        print('Playing game')\n",
        "\n",
        "    def winners(self):\n",
        "        if not self.scores:\n",
        "            return None\n",
        "        scores = list(self.scores.values())\n",
        "        max_score = max(scores)\n",
        "        winners = []\n",
        "        for player in self.scores:\n",
        "            if self.scores[player] == max_score:\n",
        "                winners.append(player)\n",
        "        return winners\n",
        "\n",
        "\n",
        "class ChicagoDiceGame(DiceGame):\n",
        "    def __init__(self, players):\n",
        "        \"\"\"\n",
        "        The ChicagoDiceGame constructor does everything that its superclass\n",
        "        DiceGame does. It also ensures that there are 2-6 players in the\n",
        "        game, and sets an attribute `valid` to False if this is not the case.\n",
        "        It sets `valid` to True if the player count is correct.\n",
        "        \"\"\"\n",
        "        if len(players) < 2 or len(players) > 6:\n",
        "            self.valid = False\n",
        "            print(\"Invalid number of players. The game requires between 2 and 6 players.\")\n",
        "        else:\n",
        "            self.valid = True\n",
        "            # Call the parent constructor to initialize the game with valid players\n",
        "            super().__init__(players)\n",
        "\n",
        "    def play(self):\n",
        "        \"\"\"\n",
        "        The ChicagoDiceGame play method implements the rules of the Chicago\n",
        "        dice game. It plays 11 rounds, numbered 2-12, and for each round,\n",
        "        each player rolls self.dice. If the dice total equals the number of\n",
        "        the round, that player gets a point.\n",
        "\n",
        "        If the game is not valid, it will print a message to that effect and\n",
        "        ends immediately.\n",
        "        \"\"\"\n",
        "        if not self.valid:\n",
        "            return  # If the game is invalid, just return\n",
        "\n",
        "        # Game runs for 11 rounds (round numbers 2-12)\n",
        "        for round_num in range(2, 13):\n",
        "            print(f\"\\nRound {round_num}:\")\n",
        "\n",
        "            for player in self.players:\n",
        "                die1, die2 = self.dice.roll()\n",
        "                roll_sum = die1 + die2\n",
        "                print(f\"{player} rolled {die1} + {die2} = {roll_sum}\")\n",
        "\n",
        "                if roll_sum == round_num:\n",
        "                    self.scores[player] += 1\n",
        "                    print(f\"{player} scores a point!\")\n",
        "                else:\n",
        "                    print(f\"{player} does not score.\")\n",
        "\n",
        "    def winners(self):\n",
        "        return super().winners()\n",
        "\n",
        "\n",
        "# Driver code below will work when your code is complete.\n",
        "new_game = ChicagoDiceGame(['Jack', 'Jill'])\n",
        "new_game.play()\n",
        "print(new_game.winners())\n"
      ]
    }
  ],
  "metadata": {
    "colab": {
      "provenance": [],
      "include_colab_link": true
    },
    "kernelspec": {
      "display_name": "Python 3",
      "language": "python",
      "name": "python3"
    },
    "language_info": {
      "codemirror_mode": {
        "name": "ipython",
        "version": 3
      },
      "file_extension": ".py",
      "mimetype": "text/x-python",
      "name": "python",
      "nbconvert_exporter": "python",
      "pygments_lexer": "ipython3",
      "version": "3.8.5"
    }
  },
  "nbformat": 4,
  "nbformat_minor": 0
}