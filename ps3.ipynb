{
  "cells": [
    {
      "cell_type": "markdown",
      "metadata": {
        "id": "view-in-github",
        "colab_type": "text"
      },
      "source": [
        "<a href=\"https://colab.research.google.com/github/gkrivitsky/CS1010-LAB/blob/main/ps3.ipynb\" target=\"_parent\"><img src=\"https://colab.research.google.com/assets/colab-badge.svg\" alt=\"Open In Colab\"/></a>"
      ]
    },
    {
      "cell_type": "markdown",
      "metadata": {
        "id": "sFggzmYsfkMB"
      },
      "source": [
        "# Problem Set 3\n",
        "#### CMSI 1010: Computer Programming and Lab"
      ]
    },
    {
      "cell_type": "markdown",
      "metadata": {
        "id": "SIwEbAU8fkMF"
      },
      "source": [
        "# Important Dates\n",
        "\n",
        " - Released: 2024-02-08 at 12:00 am [PT]\n",
        " - Deadline: 2024-02-22 at 11:59 pm [PT]"
      ]
    },
    {
      "cell_type": "markdown",
      "metadata": {
        "id": "exLctFGDfkMF"
      },
      "source": [
        "# Question 1: Reading Notes\n",
        "\n",
        "All readings are from the [_Think Python_ textbook](http://greenteapress.com/thinkpython2/thinkpython2.pdf):\n",
        "* Supporting content for this pset: Chapters 7–9\n",
        "* Upcoming content: Chapters 11–13, 15–17\n",
        "\n",
        "In your own words, summarize the key topics covered in the textbook chapters. Additionally, relate these topics to the concepts and material we've learned in class. How do the ideas presented in the textbook connect to the lessons and discussions we've had in the classroom? Please provide specific examples to support your points."
      ]
    },
    {
      "cell_type": "markdown",
      "metadata": {
        "id": "UttS-YKMfkMG"
      },
      "source": [
        "Functions and Scope: Chapters 7 emphasizes the importance of functions in structuring code and managing scope. This ties into our classroom discussions about how functions help avoid repetition and improve code readability. For instance, when we created modular code for our projects, we relied heavily on defining clear functions to encapsulate logic.\n",
        "Parameters and Return Values: The chapters explore how functions can take parameters and return values, reinforcing the idea of data flow within programs. In class, we practiced writing functions that processed user input and returned results, demonstrating how these concepts enable dynamic and flexible programming.\n",
        "Lists and Mutability: Chapter 8 introduces lists as a way to store collections of data, highlighting their mutable nature. We’ve touched on lists in class when discussing how to manage multiple pieces of related data, such as storing grades or inventory items, which aligns with the idea of using lists for organization.\n",
        "Dictionaries: Chapter 9 focuses on dictionaries as a way to handle key-value pairs. This connects to our classroom work on data structures, as we’ve explored how dictionaries allow for efficient data retrieval and organization, similar to how we used them to map user IDs to user information in our projects.\n",
        "Iteration and Looping: The concept of iteration is covered in these chapters, particularly in relation to lists and dictionaries. In class, we practiced using loops to iterate over collections, reinforcing the idea of automating repetitive tasks. For example, we wrote loops to calculate averages or to format lists, directly applying the principles discussed in the textbook.\n",
        "\n",
        "Chapter 11: Debugging\n",
        "Content: Focuses on techniques to identify and fix errors in code, including syntax errors, runtime errors, and logical errors.\n",
        "Vocabulary: Debugging, errors, exceptions, print statement, assertions.\n",
        "Chapter 12: Data Structures\n",
        "Content: Introduces lists and tuples as fundamental data structures for storing collections of data.\n",
        "Vocabulary: List, tuple, indexing, slicing, mutation.\n",
        "Chapter 13: Case Study: Search\n",
        "Content: Explores algorithms for searching through data, specifically linear search and binary search.\n",
        "Vocabulary: Search, linear search, binary search, algorithm, efficiency.\n",
        "Chapter 15: Lists\n",
        "Content: Dives deeper into list operations and methods, including list comprehensions and advanced list manipulations.\n",
        "Vocabulary: List comprehensions, append, extend, sort, slice.\n",
        "Chapter 16: Dictionaries\n",
        "Content: Introduces dictionaries as a way to store key-value pairs and discusses their usage and methods.\n",
        "Vocabulary: Dictionary, key, value, items, keys, values.\n",
        "Chapter 17: Case Study: Data Structures\n",
        "Content: Applies knowledge of data structures to solve problems, reinforcing concepts learned in previous chapters.\n",
        "Vocabulary: Data structure, stack, queue, implementation, abstraction.\n"
      ]
    },
    {
      "cell_type": "markdown",
      "metadata": {
        "id": "xKebuoIKfkMG"
      },
      "source": [
        "# Question 2: Understanding loops"
      ]
    },
    {
      "cell_type": "markdown",
      "metadata": {
        "id": "T3yfbtyCfkMH"
      },
      "source": [
        "### Part A\n",
        " For these fragments of code, write the output **_without_** running them."
      ]
    },
    {
      "cell_type": "markdown",
      "source": [],
      "metadata": {
        "id": "6hnAbpZAeQxY"
      }
    },
    {
      "cell_type": "markdown",
      "metadata": {
        "id": "fqMJ2vF8fkMH"
      },
      "source": [
        "```python\n",
        "    num1 = 10\n",
        "    while num1 > 3:\n",
        "        print(num1)\n",
        "        num1 = num1 - 1\n",
        "```"
      ]
    },
    {
      "cell_type": "markdown",
      "metadata": {
        "id": "i8s8fCDtfkMH"
      },
      "source": [
        " #### Output:\n",
        "10\n",
        "9\n",
        "8\n",
        "7\n",
        "6\n",
        "5\n",
        "4"
      ]
    },
    {
      "cell_type": "markdown",
      "metadata": {
        "id": "5RBxiU5mfkMI"
      },
      "source": [
        "```python\n",
        "    num2 = 10\n",
        "    while True:\n",
        "        if num2 < 7:\n",
        "            # break makes us quit the loop\n",
        "            break\n",
        "        print(num2)\n",
        "        num2 = num2 - 1\n",
        "```"
      ]
    },
    {
      "cell_type": "markdown",
      "metadata": {
        "id": "4znGow75fkMJ"
      },
      "source": [
        "10\n",
        "9\n",
        "8\n",
        "7\n"
      ]
    },
    {
      "cell_type": "markdown",
      "metadata": {
        "id": "xo75GZx-fkMJ"
      },
      "source": [
        "```python\n",
        "    divisor = 2\n",
        "    for i in range(0, 10, 2):\n",
        "        print(i / divisor)\n",
        "```"
      ]
    },
    {
      "cell_type": "markdown",
      "metadata": {
        "id": "6bo8_yiffkMJ"
      },
      "source": [
        "0.0\n",
        "1.0\n",
        "2.0\n",
        "3.0\n",
        "4.0\n"
      ]
    },
    {
      "cell_type": "markdown",
      "metadata": {
        "id": "NyT8jVmlfkMK"
      },
      "source": [
        "### Part B\n",
        "\n",
        "These programs use `for` loops to iterate through strings."
      ]
    },
    {
      "cell_type": "markdown",
      "metadata": {
        "id": "ITcTb9Z4fkMK"
      },
      "source": [
        "```python\n",
        "    my_string = 'stressed'\n",
        "    for letter in my_string:\n",
        "        print(letter)\n",
        "```"
      ]
    },
    {
      "cell_type": "markdown",
      "metadata": {
        "id": "jTL8QtS9fkMK"
      },
      "source": [
        "s\n",
        "t\n",
        "r\n",
        "e\n",
        "s\n",
        "s\n",
        "e\n",
        "d\n"
      ]
    },
    {
      "cell_type": "markdown",
      "metadata": {
        "id": "Q__wT7Q-fkMK"
      },
      "source": [
        "```python\n",
        "    my_string = 'stressed'\n",
        "    res = ''\n",
        "    for letter in my_string:\n",
        "        res = letter + res\n",
        "    print(res)\n",
        "```"
      ]
    },
    {
      "cell_type": "markdown",
      "metadata": {
        "id": "rKXmtnpCfkML"
      },
      "source": [
        "desserts\n"
      ]
    },
    {
      "cell_type": "markdown",
      "metadata": {
        "id": "zR4B2vxffkML"
      },
      "source": [
        "Describe, in your own words, what’s happening in this loop:"
      ]
    },
    {
      "cell_type": "markdown",
      "metadata": {
        "id": "cLziVY6ffkML"
      },
      "source": [
        "(edit this cell with your answer)"
      ]
    },
    {
      "cell_type": "markdown",
      "metadata": {
        "id": "NwQMJYNvfkML"
      },
      "source": [
        "# Question 3 : Exponentials\n",
        "\n",
        "Imagine that the `**` operator for numbers has now been removed from the Python programming language. Write a program that prompts the user for a base and an exponent and uses a `for` loop to calculate `base ** exp`. _**Note:** You should handle the case where the user does not type a positive integer._"
      ]
    },
    {
      "cell_type": "code",
      "execution_count": 9,
      "metadata": {
        "id": "oJ1JTXQDfkMM"
      },
      "outputs": [],
      "source": [
        "def exponential(base, exp):\n",
        "    if exp < 0:\n",
        "        result = 1\n",
        "        for _ in range(-exp):\n",
        "            result /= base\n",
        "    else:\n",
        "        result = 1\n",
        "        for _ in range(exp):\n",
        "            result *= base\n",
        "    return result\n"
      ]
    },
    {
      "cell_type": "code",
      "execution_count": 10,
      "metadata": {
        "id": "gcAA3X3YfkMN",
        "colab": {
          "base_uri": "https://localhost:8080/"
        },
        "outputId": "62106fc1-0cd1-4a39-a015-71b375ce7219"
      },
      "outputs": [
        {
          "output_type": "stream",
          "name": "stdout",
          "text": [
            "Enter a base: 2\n",
            "Enter an exponent (positive integer): 4\n",
            "The result of 2.0 raised to the power of 4 is 16.0\n"
          ]
        }
      ],
      "source": [
        "base = float(input(\"Enter a base: \"))\n",
        "exp = int(input(\"Enter an exponent (positive integer): \"))\n",
        "\n",
        "if exp < 0:\n",
        "    print(\"Please enter a positive integer for the exponent.\")\n",
        "else:\n",
        "    print(f\"The result of {base} raised to the power of {exp} is {exponential(base, exp)}\")\n"
      ]
    },
    {
      "cell_type": "markdown",
      "metadata": {
        "id": "5i0PM5hgfkMN"
      },
      "source": [
        "The cells below are autograder cells; don't edit those! But you can run them (using the Run button) to test your own code! If they don't spit out any error messages, then your code works!"
      ]
    },
    {
      "cell_type": "code",
      "execution_count": 11,
      "metadata": {
        "id": "cTr52zFCfkMN"
      },
      "outputs": [],
      "source": [
        "assert exponential(2, 4) == 16\n",
        "assert exponential(3, 0) == 1\n",
        "assert exponential(-2, 3) == -8\n",
        "assert exponential(2, -2) == 0.25\n",
        "\n"
      ]
    },
    {
      "cell_type": "markdown",
      "metadata": {
        "id": "X7Bbl93ffkMO"
      },
      "source": [
        "# Question 4 : Functions and more functions"
      ]
    },
    {
      "cell_type": "markdown",
      "metadata": {
        "nbgrader": {
          "grade": false,
          "grade_id": "q1c_prompt",
          "locked": true,
          "schema_version": 1,
          "solution": false
        },
        "id": "R_uJg8XmfkMO"
      },
      "source": [
        "### Part A\n",
        "\n",
        "Write a function:\n",
        "\n",
        " - named `list_of_positive_indices`\n",
        " - takes 1 input (i.e., argument), a list\n",
        " - returns 1 value, a list\n",
        "\n",
        "In this function, you should loop through each element of the argument list. If the element is *positive* (i.e., greater than zero), then you should append the *index number of the positive element* to a new list. If not, skip that index (i.e. do nothing). Once the loop is finished, return the new list.\n",
        "\n",
        "For example, `list_of_positive_indices([1, -1, 0, 3])` should return `[0, 3]` because these are the **indices** of 1 and 3. No imports!\n",
        "\n",
        "*HINT*: Instead of doing a simple `for element in list:` loop, try using the `range()` function in the loop header. What will you be looping through instead of the elements themselves?"
      ]
    },
    {
      "cell_type": "code",
      "execution_count": 12,
      "metadata": {
        "id": "YJsAFogkfkMP"
      },
      "outputs": [],
      "source": [
        "def list_of_positive_indices(in_list):\n",
        "    indices = []\n",
        "    for i in range(len(in_list)):\n",
        "        if in_list[i] > 0:\n",
        "            indices.append(i)\n",
        "    return indices\n"
      ]
    },
    {
      "cell_type": "markdown",
      "metadata": {
        "id": "PgYjnlKcfkMP"
      },
      "source": [
        "Run the autograder cells below to test your code!"
      ]
    },
    {
      "cell_type": "code",
      "execution_count": 13,
      "metadata": {
        "collapsed": true,
        "nbgrader": {
          "grade": true,
          "grade_id": "q1c_test1",
          "locked": true,
          "points": 5,
          "schema_version": 1,
          "solution": false
        },
        "id": "2tBDkc50fkMP"
      },
      "outputs": [],
      "source": [
        "def is_even(num):\n",
        "    return num % 2 == 0\n"
      ]
    },
    {
      "cell_type": "code",
      "execution_count": 15,
      "metadata": {
        "collapsed": true,
        "nbgrader": {
          "grade": true,
          "grade_id": "q1c_test2",
          "locked": true,
          "points": 5,
          "schema_version": 1,
          "solution": false
        },
        "id": "mPATc23VfkMP"
      },
      "outputs": [],
      "source": [
        "\n",
        "# Define num before using it\n",
        "num = 5  # Or any other desired value\n",
        "\n",
        "is_odd = not is_even(num)"
      ]
    },
    {
      "cell_type": "markdown",
      "metadata": {
        "nbgrader": {
          "grade": false,
          "grade_id": "q2a_prompt",
          "locked": true,
          "schema_version": 1,
          "solution": false
        },
        "id": "7nbRkMgGfkMP"
      },
      "source": [
        "### Part B\n",
        "\n",
        "Write a function that tests if a number is even.\n",
        "\n",
        "*HINT*: Recall the modulo operator `%`. This performs division on two numbers, but instead of returning their quotient, it returns the *remainder* of the division. For example, `7 % 3` returns 1, since the quotient is 2 with a remainder of 1.\n",
        "\n",
        "Your function should:\n",
        "\n",
        " - be named `is_even`\n",
        " - take 1 argument, a number\n",
        " - return `True` if the argument is even, `False` otherwise\n",
        "\n",
        "Make sure you're returning a *boolean*!"
      ]
    },
    {
      "cell_type": "code",
      "execution_count": 20,
      "metadata": {
        "collapsed": true,
        "nbgrader": {
          "grade": false,
          "grade_id": "q2a",
          "locked": false,
          "schema_version": 1,
          "solution": true
        },
        "id": "iSNTlvydfkMP"
      },
      "outputs": [],
      "source": [
        "def is_even(num):\n",
        "    pass"
      ]
    },
    {
      "cell_type": "code",
      "execution_count": 19,
      "metadata": {
        "collapsed": true,
        "nbgrader": {
          "grade": true,
          "grade_id": "q2a_test1",
          "locked": true,
          "points": 2.5,
          "schema_version": 1,
          "solution": false
        },
        "id": "BKdz-JcCfkMQ"
      },
      "outputs": [],
      "source": [
        "assert is_even(3) == False"
      ]
    },
    {
      "cell_type": "code",
      "execution_count": 18,
      "metadata": {
        "collapsed": true,
        "nbgrader": {
          "grade": true,
          "grade_id": "q2a_test2",
          "locked": true,
          "points": 2.5,
          "schema_version": 1,
          "solution": false
        },
        "id": "ta22ZUr8fkMQ"
      },
      "outputs": [],
      "source": [
        "assert is_even(123456789) == False"
      ]
    },
    {
      "cell_type": "code",
      "execution_count": 17,
      "metadata": {
        "collapsed": true,
        "nbgrader": {
          "grade": true,
          "grade_id": "q2a_test3",
          "locked": true,
          "points": 2.5,
          "schema_version": 1,
          "solution": false
        },
        "id": "4wQr2b-5fkMQ"
      },
      "outputs": [],
      "source": [
        "assert is_even(42) == True"
      ]
    },
    {
      "cell_type": "code",
      "execution_count": 16,
      "metadata": {
        "collapsed": true,
        "nbgrader": {
          "grade": true,
          "grade_id": "q2a_test4",
          "locked": true,
          "points": 2.5,
          "schema_version": 1,
          "solution": false
        },
        "id": "4GGUfcGifkMQ"
      },
      "outputs": [],
      "source": [
        "assert is_even(42.1) == False"
      ]
    },
    {
      "cell_type": "markdown",
      "metadata": {
        "nbgrader": {
          "grade": false,
          "grade_id": "q2b_prompt",
          "locked": true,
          "schema_version": 1,
          "solution": false
        },
        "id": "qIa06d9pfkMQ"
      },
      "source": [
        "### Part C\n",
        "\n",
        "How could you test if a number is *odd*, using your `is_even` function from Part B?\n",
        "\n",
        "Write your answer, either using 1 line of code or explaining in only 1 sentence, in the box below (double click on the statement below to activate the box)."
      ]
    },
    {
      "cell_type": "markdown",
      "metadata": {
        "nbgrader": {
          "grade": true,
          "grade_id": "q2b",
          "locked": false,
          "points": 5,
          "schema_version": 1,
          "solution": true
        },
        "id": "YtyHC6v_fkMQ"
      },
      "source": [
        "is_odd = not is_even(num)\n"
      ]
    },
    {
      "cell_type": "markdown",
      "metadata": {
        "nbgrader": {
          "grade": false,
          "grade_id": "q2c_prompt",
          "locked": true,
          "schema_version": 1,
          "solution": false
        },
        "id": "xnP3TI31fkMQ"
      },
      "source": [
        "### Part D *(Optional)*\n",
        "\n",
        "*This part is optional*. Write a function that finds the *second-smallest* number in a list of numbers. Your function should:\n",
        "\n",
        " - be named `second_smallest`\n",
        " - take 1 argument, a list of numbers\n",
        " - return 1 number, the second-smallest number in the list\n",
        "\n",
        "Take note of that last point. There's a possibility, after all, that the list your function receives as input will have 1 or even 0 elements in it. How, then, do you return the second-smallest element of a 0-element list? Well, simply, you can't. So instead, you'll return False.\n",
        "\n",
        "For example, `second_smallest([1, 2, 3])` should return `2`. Another example `second_smallest([10, 100, 1000, 10000])` should return 100. And `second_smallest([1])` should return `False`.\n",
        "\n",
        "You **cannot** use any built-in sorting functions! Only `range()` and `len()`."
      ]
    },
    {
      "cell_type": "code",
      "execution_count": null,
      "metadata": {
        "nbgrader": {
          "grade": false,
          "grade_id": "q2c",
          "locked": false,
          "schema_version": 1,
          "solution": true
        },
        "id": "GXdtvvpafkMR"
      },
      "outputs": [],
      "source": [
        "def second_smallest(in_list):\n",
        "    pass"
      ]
    },
    {
      "cell_type": "code",
      "execution_count": null,
      "metadata": {
        "nbgrader": {
          "grade": true,
          "grade_id": "q2c_test1",
          "locked": true,
          "points": 5,
          "schema_version": 1,
          "solution": false
        },
        "id": "NavmS-njfkMR"
      },
      "outputs": [],
      "source": [
        "import numpy as np\n",
        "np.random.seed(89547)\n",
        "\n",
        "l1 = np.random.randint(-100, 100, 100)\n",
        "a1 = np.sort(l1)[1]\n",
        "np.testing.assert_allclose(a1, second_smallest(l1.tolist()))"
      ]
    },
    {
      "cell_type": "code",
      "execution_count": null,
      "metadata": {
        "nbgrader": {
          "grade": true,
          "grade_id": "q2c_test2",
          "locked": true,
          "points": 5,
          "schema_version": 1,
          "solution": false
        },
        "id": "MvO3PvGPfkMR"
      },
      "outputs": [],
      "source": [
        "np.random.seed(485)\n",
        "\n",
        "l2 = np.random.randint(0, 1000, 100)\n",
        "a2 = np.sort(l2)[1]\n",
        "np.testing.assert_allclose(a2, second_smallest(l2.tolist()))"
      ]
    },
    {
      "cell_type": "code",
      "execution_count": null,
      "metadata": {
        "nbgrader": {
          "grade": true,
          "grade_id": "q2c_test3",
          "locked": true,
          "points": 2.5,
          "schema_version": 1,
          "solution": false
        },
        "id": "3CnvmW2VfkMR"
      },
      "outputs": [],
      "source": [
        "assert second_smallest([]) == False"
      ]
    },
    {
      "cell_type": "code",
      "execution_count": null,
      "metadata": {
        "nbgrader": {
          "grade": true,
          "grade_id": "q2c_test4",
          "locked": true,
          "points": 2.5,
          "schema_version": 1,
          "solution": false
        },
        "id": "npfjxRbqfkMR"
      },
      "outputs": [],
      "source": [
        "assert second_smallest([100]) == False"
      ]
    },
    {
      "cell_type": "markdown",
      "metadata": {
        "id": "pbiH3qW3fkMR"
      },
      "source": [
        "# Question 5: Greetings"
      ]
    },
    {
      "cell_type": "markdown",
      "metadata": {
        "id": "eTr4NndefkMR"
      },
      "source": [
        "### Part A\n",
        "\n",
        "Print a greeting saying “Hello, Harry” and “Goodbye, Potter” using only the variables provided below. Complete instructions below."
      ]
    },
    {
      "cell_type": "code",
      "execution_count": 21,
      "metadata": {
        "id": "tmWsYNjvfkMR",
        "colab": {
          "base_uri": "https://localhost:8080/"
        },
        "outputId": "39be9354-8267-4edd-a304-07e340926bdb"
      },
      "outputs": [
        {
          "output_type": "stream",
          "name": "stdout",
          "text": [
            "*******************\n",
            "*                 *\n",
            "* Hello, Harry!!! *\n",
            "*                 *\n",
            "*******************\n",
            "***********************\n",
            "*                     *\n",
            "* Goodbye, Potter!!!  *\n",
            "*                     *\n",
            "***********************\n"
          ]
        }
      ],
      "source": [
        "# Greeting\n",
        "print('*******************')\n",
        "print('*                 *')\n",
        "print('* Hello, Harry!!! *')\n",
        "print('*                 *')\n",
        "print('*******************')\n",
        "\n",
        "# Goodbye\n",
        "print('***********************')\n",
        "print('*                     *')\n",
        "print('* Goodbye, Potter!!!  *')\n",
        "print('*                     *')\n",
        "print('***********************')\n"
      ]
    },
    {
      "cell_type": "markdown",
      "metadata": {
        "id": "hCT9POa-fkMS"
      },
      "source": [
        "### Part B\n",
        "\n",
        " **Reflection:** The output of `greetings` looks very similar to the one from PS0. However, the code looks different. How would you compare the two versions? What advantages/disadvantages do you see in the two approaches?"
      ]
    },
    {
      "cell_type": "markdown",
      "metadata": {
        "id": "cOMd8KaZfkMS"
      },
      "source": [
        "More flexibility and consistency are provided by the new welcome output technique, which has an organized style based exclusively on predefined variables. The previous version was less versatile, despite being considerably easier to understand. Updates and alterations to the content can be easily done without changing the overall structure by using variables."
      ]
    },
    {
      "cell_type": "markdown",
      "metadata": {
        "id": "uK7xy8tjfkMS"
      },
      "source": [
        "# Question 6: Acronym"
      ]
    },
    {
      "cell_type": "markdown",
      "metadata": {
        "id": "jylW-zVwfkMS"
      },
      "source": [
        "This exercise will allow you to practice with the methods for strings and lists. An acronym is a word formed by taking the first letters of the words in a phrase and making a word from them. For example, RAM is an acronym for “random access memory.” In this exercise, you are going to write a program that should allow the user to type in a phrase, and the computer should then output the acronym for that phrase. An example of how your program should work is as follows:"
      ]
    },
    {
      "cell_type": "markdown",
      "metadata": {
        "id": "eaYPV5fyfkMS"
      },
      "source": [
        "**Note:** The acronym should be all uppercase, even if the words in the phrase are not capitalized.\n",
        "\n",
        "Enter a phrase: loyola marymount university\n",
        "Your acronym is: LMU\n",
        "  "
      ]
    },
    {
      "cell_type": "code",
      "execution_count": 22,
      "metadata": {
        "id": "IsLigXSFfkMS",
        "colab": {
          "base_uri": "https://localhost:8080/"
        },
        "outputId": "333935c7-4f7b-4ed9-977c-b2ef8280a880"
      },
      "outputs": [
        {
          "output_type": "stream",
          "name": "stdout",
          "text": [
            "Enter a phrase:  loyola marymount university\n",
            "Your acronym is: LMU\n"
          ]
        }
      ],
      "source": [
        "phrase = input(\"Enter a phrase: \")\n",
        "words = phrase.split()\n",
        "acronym = ''.join(word[0].upper() for word in words)\n",
        "print(f\"Your acronym is: {acronym}\")\n"
      ]
    }
  ],
  "metadata": {
    "kernelspec": {
      "display_name": "Python 3",
      "language": "python",
      "name": "python3"
    },
    "language_info": {
      "codemirror_mode": {
        "name": "ipython",
        "version": 3
      },
      "file_extension": ".py",
      "mimetype": "text/x-python",
      "name": "python",
      "nbconvert_exporter": "python",
      "pygments_lexer": "ipython3",
      "version": "3.8.5"
    },
    "colab": {
      "provenance": [],
      "include_colab_link": true
    }
  },
  "nbformat": 4,
  "nbformat_minor": 0
}