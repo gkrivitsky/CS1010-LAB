{
  "cells": [
    {
      "cell_type": "markdown",
      "metadata": {
        "id": "view-in-github",
        "colab_type": "text"
      },
      "source": [
        "<a href=\"https://colab.research.google.com/github/gkrivitsky/CS1010-LAB/blob/main/Copy_of_Lab13.ipynb\" target=\"_parent\"><img src=\"https://colab.research.google.com/assets/colab-badge.svg\" alt=\"Open In Colab\"/></a>"
      ]
    },
    {
      "cell_type": "markdown",
      "metadata": {
        "id": "O-Kuo4GgBPwY"
      },
      "source": [
        "## <a href=\"https://colab.research.google.com/github/LMU-CMSI-1010/lab-notebooks-original/blob/main/Lab13.ipynb\" target=\"_parent\"><img src=\"https://colab.research.google.com/assets/colab-badge.svg\" alt=\"Open In Colab\"/></a>"
      ]
    },
    {
      "cell_type": "markdown",
      "metadata": {
        "id": "9aXfrLXg9seM"
      },
      "source": [
        "# Lab 13 Making classes\n",
        "In this lab you will complete the dog class from the slides and create a class for a person to be the owner of the dog. You will also create a class for complex numbers."
      ]
    },
    {
      "cell_type": "markdown",
      "metadata": {
        "id": "cFmY8Nj8OVf4"
      },
      "source": [
        "## Dog Class from the Slides\n",
        "In the following cell, we have included the `Dog` class from the slides. To this class **add a method called `exercise` that will subtract the given `amount` from the weight of the dog** (i.e., it is the opposite of `eat`—if only it were that simple in real life!). Once you have completed this code, run this cell even though you will not see output yet."
      ]
    },
    {
      "cell_type": "code",
      "execution_count": null,
      "metadata": {
        "id": "2H9KiTyoNPR3"
      },
      "outputs": [],
      "source": [
        "class Dog():\n",
        "    \"\"\"The Dog has a name, weight, and breed. It can eat or exercise.\"\"\"\n",
        "\n",
        "    # Constructor as given in slides\n",
        "    def __init__(self, name, weight, breed):\n",
        "        self.name = name\n",
        "        self.weight = weight\n",
        "        self.breed = breed\n",
        "\n",
        "    # Method for the dog to eat given in slides\n",
        "    def eat(self, amount):\n",
        "        self.weight += amount\n",
        "\n",
        "    # Method to exercise and decrease weight\n",
        "    def exercise(self, amount):\n",
        "        self.weight -= amount\n",
        "\n",
        "# Example usage\n",
        "toto = Dog('Toto', 13, 'Cairn Terrier')\n",
        "\n",
        "assert(toto.name == 'Toto')\n",
        "assert(toto.weight == 13)\n",
        "assert(toto.breed == 'Cairn Terrier')\n",
        "\n",
        "# Testing the exercise method\n",
        "toto.exercise(2)\n",
        "assert(toto.weight == 11)  # Weight should now be 11\n"
      ]
    },
    {
      "cell_type": "markdown",
      "metadata": {
        "id": "vrccqrkTOYZ3"
      },
      "source": [
        "## Person Class for Owners\n",
        "In the following cell, you will **complete the constructor for the `Person` class for dog owners**. Each person has a `name`, a `dog`, and a `generosity` level. The `generosity` level is a value between 0 and 1 (inclusive) that is the amount of a pound of food that owners feed their dogs. You will also complete the `feed_dog` method for the `Person`. This method will feed the owners' dogs the amount of their generosity. **Once you have completed this code, run this cell even though you will see not output yet.**\n"
      ]
    },
    {
      "cell_type": "code",
      "execution_count": null,
      "metadata": {
        "id": "E3sTGBcCNtU7"
      },
      "outputs": [],
      "source": [
        "class Person(object):\n",
        "    \"\"\"The Person has a name, a Dog, and a generosity. It can feed its Dog.\"\"\"\n",
        "\n",
        "    # Constructor for the Person class\n",
        "    def __init__(self, name, dog, generosity):\n",
        "        self.name = name          # Save the name\n",
        "        self.dog = dog            # Save the Dog object\n",
        "        self.generosity = generosity  # Save the generosity level\n",
        "\n",
        "    # Method to feed the dog based on the owner's generosity\n",
        "    def feed_dog(self):\n",
        "        self.dog.eat(self.generosity)  # Feed the dog the amount of generosity\n",
        "\n",
        "# Example usage\n",
        "# Assuming Dog class is defined as in the previous code\n",
        "toto = Dog('Toto', 13, 'Cairn Terrier')\n",
        "owner = Person('Alice', toto, 0.5)\n",
        "\n",
        "assert(owner.name == 'Alice')\n",
        "assert(owner.generosity == 0.5)\n",
        "assert(owner.dog == toto)\n",
        "\n",
        "# Feeding the dog\n",
        "owner.feed_dog()\n",
        "assert(toto.weight == 13.5)  # Weight should now be 13.5 after feeding\n"
      ]
    },
    {
      "cell_type": "markdown",
      "metadata": {
        "id": "hTC8Hx3aVlNu"
      },
      "source": [
        "## Testing the Dog and Person Classes\n",
        "\n",
        "The following code can be run to test your implementations of the `Dog` and `Person` classes. The comments indicate the desired results. You can change this cell to test your code."
      ]
    },
    {
      "cell_type": "code",
      "execution_count": null,
      "metadata": {
        "id": "h6zqeDnpG6tv",
        "outputId": "4f120276-8052-47b1-83c0-973e1efcf6de",
        "colab": {
          "base_uri": "https://localhost:8080/"
        }
      },
      "outputs": [
        {
          "output_type": "stream",
          "name": "stdout",
          "text": [
            "Gregory owns a Border Terrier named Hickory\n",
            "Hickory weighs 15.200000 lbs.\n",
            "After eating Hickory weighs 15.300000 lbs.\n"
          ]
        }
      ],
      "source": [
        "\n",
        "# Instantiate the dog object for Hickory\n",
        "dog = Dog('Hickory', 15.2, 'Border Terrier')\n",
        "\n",
        "# Instantiate the owner object for Gregory\n",
        "owner = Person('Gregory', dog, 0.1)\n",
        "\n",
        "# Print the details of the owner and dog\n",
        "print(owner.name + ' owns a ' + owner.dog.breed + ' named ' + owner.dog.name)\n",
        "print(owner.dog.name + ' weighs ' + format(owner.dog.weight, 'f') + ' lbs.')\n",
        "# Expected output:\n",
        "# 'Gregory owns a Border Terrier named Hickory'\n",
        "# 'Hickory weighs 15.200000 lbs.'\n",
        "\n",
        "# Gregory feeds Hickory\n",
        "owner.feed_dog()\n",
        "\n",
        "# Print the updated weight of the dog after eating\n",
        "print('After eating ' + owner.dog.name + ' weighs ' \\\n",
        "      + format(owner.dog.weight, 'f') + ' lbs.')\n",
        "# Expected output:\n",
        "# 'After eating Hickory weighs 15.300000 lbs.'\n",
        "\n",
        "# Assertions to check the correctness of the objects\n",
        "assert(owner.name == 'Gregory')\n",
        "assert(owner.generosity == 0.1)\n",
        "assert(owner.dog == dog)\n",
        "assert(dog.name == 'Hickory')\n",
        "assert(dog.breed == 'Border Terrier')\n",
        "assert(round(dog.weight, 2) == 15.3)\n"
      ]
    },
    {
      "cell_type": "markdown",
      "metadata": {
        "id": "Hkgc6XVvFKhb"
      },
      "source": [
        "## Complex Numbers Class\n",
        "Complex numbers have a *real* part and an *imaginary* part. The *imaginary* part is multiplied by *i*, the square root of -1. A complex number can be written **a + bi** where **a** is the real part and **b** is the imaginary part. In the following cell, **complete the `Complex` class.**"
      ]
    },
    {
      "cell_type": "code",
      "execution_count": null,
      "metadata": {
        "id": "OMEImNy_f_bX",
        "outputId": "80e9e4d2-0c10-417d-b1a4-3909727c4388",
        "colab": {
          "base_uri": "https://localhost:8080/"
        }
      },
      "outputs": [
        {
          "output_type": "stream",
          "name": "stdout",
          "text": [
            "x is 3 + 4i\n",
            "y is 7 + 10i\n",
            "sum is 10 + 14i\n"
          ]
        }
      ],
      "source": [
        "class Complex(object):\n",
        "    \"\"\"A complex number has a real and imaginary part.\"\"\"\n",
        "\n",
        "    # Constructor to initialize the real and imaginary parts\n",
        "    def __init__(self, real, imaginary):\n",
        "        self.real = real          # Save the real part\n",
        "        self.imaginary = imaginary  # Save the imaginary part\n",
        "\n",
        "    # Method to return the real part of the complex number\n",
        "    def real_part(self):\n",
        "        return self.real\n",
        "\n",
        "    # Method to return the imaginary part of the complex number\n",
        "    def imaginary_part(self):\n",
        "        return self.imaginary\n",
        "\n",
        "    # Method to add another complex number and return a new Complex number\n",
        "    def add(self, other):\n",
        "        new_real = self.real + other.real\n",
        "        new_imaginary = self.imaginary + other.imaginary\n",
        "        return Complex(new_real, new_imaginary)\n",
        "\n",
        "    # String representation of the Complex number\n",
        "    def __str__(self):\n",
        "        output = str(self.real) + ' + ' + str(self.imaginary) + 'i'\n",
        "        return output\n",
        "\n",
        "\n",
        "# Testing the implementation\n",
        "x = Complex(3, 4)\n",
        "print('x is ' + str(x))  # Should print 3 + 4i\n",
        "assert(x.real == 3)\n",
        "assert(x.imaginary == 4)\n",
        "\n",
        "y = Complex(7, 10)\n",
        "print('y is ' + str(y))  # Should print 7 + 10i\n",
        "assert(y.real == 7)\n",
        "assert(y.imaginary == 10)\n",
        "\n",
        "sum = x.add(y)\n",
        "print('sum is ' + str(sum))  # Should print 10 + 14i\n",
        "assert(sum.real == 10)\n",
        "assert(sum.imaginary == 14)\n"
      ]
    },
    {
      "cell_type": "markdown",
      "metadata": {
        "id": "WG9zMdCjI_fS"
      },
      "source": [
        "### (Optional) Reflections\n",
        "Add a text cell below to answer the following questions:\n",
        "1. What do you feel more confident about after completing this lab?\n",
        "2. What do you feel you can use more help with after completing this lab?\n",
        "3. Do you have any constructive suggestions on how we can help you or improve this lab?"
      ]
    },
    {
      "cell_type": "markdown",
      "metadata": {
        "id": "0KQcA7o9JK7f"
      },
      "source": [
        "### Save your work to GitHub\n",
        "Please save this notebook to your lab repository.\n"
      ]
    }
  ],
  "metadata": {
    "kernelspec": {
      "display_name": "Python 3",
      "language": "python",
      "name": "python3"
    },
    "language_info": {
      "codemirror_mode": {
        "name": "ipython",
        "version": 3
      },
      "file_extension": ".py",
      "mimetype": "text/x-python",
      "name": "python",
      "nbconvert_exporter": "python",
      "pygments_lexer": "ipython3",
      "version": "3.8.5"
    },
    "colab": {
      "provenance": [],
      "include_colab_link": true
    }
  },
  "nbformat": 4,
  "nbformat_minor": 0
}